{
  "nbformat": 4,
  "nbformat_minor": 0,
  "metadata": {
    "colab": {
      "provenance": []
    },
    "kernelspec": {
      "name": "python3",
      "display_name": "Python 3"
    },
    "language_info": {
      "name": "python"
    }
  },
  "cells": [
    {
      "cell_type": "markdown",
      "source": [
        "# Introducción a Python\n",
        "\n",
        "Este cuaderno nos introducirá en los fundamentos y tipos de datos básicos de [Python](https://www.python.org/)🐍\n",
        "\n",
        "### Contenido:\n",
        "\n",
        "1. Variables Númericas\n",
        "2. Operaciones con Variables Númericas\n",
        "\n"
      ],
      "metadata": {
        "id": "CrYFQyohVdbn"
      }
    },
    {
      "cell_type": "markdown",
      "source": [
        "## Variables númericas en Python"
      ],
      "metadata": {
        "id": "rQ9ZxdQXW3oe"
      }
    },
    {
      "cell_type": "code",
      "execution_count": null,
      "metadata": {
        "colab": {
          "base_uri": "https://localhost:8080/"
        },
        "id": "6YcNBjCzUVra",
        "outputId": "f3d33a8e-bba3-4439-bf45-acf7d6b1681f"
      },
      "outputs": [
        {
          "output_type": "stream",
          "name": "stdout",
          "text": [
            "15 <class 'int'>\n",
            "15.1 <class 'float'>\n"
          ]
        }
      ],
      "source": [
        "#Comentario inicial\n",
        "x = 15 # -> asignamos el valor 15 a la variable \"x\"\n",
        "print(x, type(x)) # Imprimir el valor de la variable \"x\" y el tipo de variable\n",
        "y = 15.1\n",
        "print(y,type(y))"
      ]
    },
    {
      "cell_type": "markdown",
      "source": [],
      "metadata": {
        "id": "TcNn5F7oViUG"
      }
    },
    {
      "cell_type": "code",
      "source": [
        "y = 21\n",
        "print(y,type(y))"
      ],
      "metadata": {
        "colab": {
          "base_uri": "https://localhost:8080/"
        },
        "id": "AgJqE__PVjBy",
        "outputId": "13bfb762-4345-4f51-98b7-dae1139025b4"
      },
      "execution_count": null,
      "outputs": [
        {
          "output_type": "stream",
          "name": "stdout",
          "text": [
            "21 <class 'int'>\n"
          ]
        }
      ]
    },
    {
      "cell_type": "markdown",
      "source": [
        "## Operaciones con Variables númericas"
      ],
      "metadata": {
        "id": "9G9ExIGWZeLE"
      }
    },
    {
      "cell_type": "code",
      "source": [
        "suma = y+10 # + operador suma\n",
        "print(suma)\n",
        "multiplicacion= y*10\n",
        "print(multiplicacion)\n",
        "potencia=y**10 # ** potencia\n",
        "print(potencia)\n",
        "division = y/2\n",
        "print(division)\n",
        "division_entera=y//2\n",
        "print(division_entera)\n",
        "resto= y%2 # módulo o resto\n",
        "print(resto)"
      ],
      "metadata": {
        "colab": {
          "base_uri": "https://localhost:8080/"
        },
        "id": "x8NinproZM-s",
        "outputId": "f145c5f2-ff4a-4295-ca90-dc62b777f49c"
      },
      "execution_count": null,
      "outputs": [
        {
          "output_type": "stream",
          "name": "stdout",
          "text": [
            "31\n",
            "210\n",
            "16679880978201\n",
            "10.5\n",
            "10\n",
            "1\n"
          ]
        }
      ]
    },
    {
      "cell_type": "markdown",
      "source": [
        "## Variables Booleanas\n"
      ],
      "metadata": {
        "id": "lb4FQ0mSbYWU"
      }
    },
    {
      "cell_type": "code",
      "source": [
        "t = True\n",
        "f = False\n",
        "print(t, type(t))\n",
        "print(f, type(f))\n"
      ],
      "metadata": {
        "colab": {
          "base_uri": "https://localhost:8080/"
        },
        "id": "wp6y42iKZkqr",
        "outputId": "89aa0ba4-4c98-4cc1-dca6-400026878aaf"
      },
      "execution_count": null,
      "outputs": [
        {
          "output_type": "stream",
          "name": "stdout",
          "text": [
            "True <class 'bool'>\n",
            "False <class 'bool'>\n"
          ]
        }
      ]
    },
    {
      "cell_type": "markdown",
      "source": [
        "## Operaciones con Variables booleanas\n",
        "\n",
        "1. `or` (\"o\" lógico)\n",
        "2. `and` (\"y\" lógico)\n",
        "3. `not` (\"negación\")"
      ],
      "metadata": {
        "id": "dS7zuRdtby_h"
      }
    },
    {
      "cell_type": "code",
      "source": [
        "print (t or f)\n",
        "print (t and f)\n",
        "print (t and not f)\n"
      ],
      "metadata": {
        "colab": {
          "base_uri": "https://localhost:8080/"
        },
        "id": "mwlxkt1kbPxG",
        "outputId": "a7a31fd7-c158-4ef2-c720-762d59657aa1"
      },
      "execution_count": null,
      "outputs": [
        {
          "output_type": "stream",
          "name": "stdout",
          "text": [
            "True\n",
            "False\n",
            "True\n"
          ]
        }
      ]
    },
    {
      "cell_type": "markdown",
      "source": [
        "# Comparaciones, operación que dan como resultado variables booleanas"
      ],
      "metadata": {
        "id": "Ffvy1z6RcYKX"
      }
    },
    {
      "cell_type": "code",
      "source": [
        "print(x<10) # Sabemos que x vale 15"
      ],
      "metadata": {
        "colab": {
          "base_uri": "https://localhost:8080/"
        },
        "id": "dBB0WwUkcSVH",
        "outputId": "c6d83e7a-b678-455a-c94f-0ab58e7dd80d"
      },
      "execution_count": null,
      "outputs": [
        {
          "output_type": "stream",
          "name": "stdout",
          "text": [
            "False\n"
          ]
        }
      ]
    },
    {
      "cell_type": "code",
      "source": [
        "x = 5"
      ],
      "metadata": {
        "id": "-DGjw8MqckHD"
      },
      "execution_count": null,
      "outputs": []
    },
    {
      "cell_type": "code",
      "source": [
        "# Tenemos el operador de asignación x = 5 -> asignamos el valor de 5 a la variable x\n",
        "print(x == 5) # Operador de igualdad"
      ],
      "metadata": {
        "colab": {
          "base_uri": "https://localhost:8080/"
        },
        "id": "KL_3aFvDcyqN",
        "outputId": "54ca57ea-a127-4506-8c1b-f0997a2b80b7"
      },
      "execution_count": null,
      "outputs": [
        {
          "output_type": "stream",
          "name": "stdout",
          "text": [
            "True\n"
          ]
        }
      ]
    },
    {
      "cell_type": "code",
      "source": [
        "print(x<5, x>5, x==5, x<=5, x>=5, x!=5) # < menor, > mayor, == igual, <= menor o igual,>= mayor o igual, != distinto (distinto es signo exclamación e igual)"
      ],
      "metadata": {
        "colab": {
          "base_uri": "https://localhost:8080/"
        },
        "id": "6y1JztXddOmD",
        "outputId": "63f4f3b6-3edb-481e-e63e-5055fb28e421"
      },
      "execution_count": null,
      "outputs": [
        {
          "output_type": "stream",
          "name": "stdout",
          "text": [
            "False False True True True False\n"
          ]
        }
      ]
    },
    {
      "cell_type": "code",
      "source": [
        "## Strings (Cadenas)"
      ],
      "metadata": {
        "id": "DFSzatInehsT"
      },
      "execution_count": null,
      "outputs": []
    },
    {
      "cell_type": "code",
      "source": [
        "frase = \"Hola Mundo\"\n",
        "\n",
        "print(frase, type(frase))"
      ],
      "metadata": {
        "colab": {
          "base_uri": "https://localhost:8080/"
        },
        "id": "TI4M0Trcdk8l",
        "outputId": "5a5b9e54-1c0a-4605-e940-e8aef683503a"
      },
      "execution_count": null,
      "outputs": [
        {
          "output_type": "stream",
          "name": "stdout",
          "text": [
            "Hola Mundo <class 'str'>\n"
          ]
        }
      ]
    },
    {
      "cell_type": "code",
      "source": [
        "frase2 = 'Hola Mundo'\n",
        "print(frase2, type(frase2))"
      ],
      "metadata": {
        "colab": {
          "base_uri": "https://localhost:8080/"
        },
        "id": "BHKgIv6CeqFy",
        "outputId": "6fb2ba27-3e6e-4694-c90e-2868b67917ba"
      },
      "execution_count": null,
      "outputs": [
        {
          "output_type": "stream",
          "name": "stdout",
          "text": [
            "Hola Mundo <class 'str'>\n"
          ]
        }
      ]
    },
    {
      "cell_type": "code",
      "source": [
        "print(frase==frase2)"
      ],
      "metadata": {
        "colab": {
          "base_uri": "https://localhost:8080/"
        },
        "id": "GgOQCo5ne4Sn",
        "outputId": "05623346-1c3c-4628-d260-a3a69a90601d"
      },
      "execution_count": null,
      "outputs": [
        {
          "output_type": "stream",
          "name": "stdout",
          "text": [
            "True\n"
          ]
        }
      ]
    },
    {
      "cell_type": "code",
      "source": [
        "expresion = \"El alumno dijo:\"no se programar!\"\""
      ],
      "metadata": {
        "colab": {
          "base_uri": "https://localhost:8080/",
          "height": 140
        },
        "id": "OPsRPGUke8CU",
        "outputId": "1eac5d06-bbb6-4261-83e6-8779cae693f3"
      },
      "execution_count": null,
      "outputs": [
        {
          "output_type": "error",
          "ename": "SyntaxError",
          "evalue": "ignored",
          "traceback": [
            "\u001b[0;36m  File \u001b[0;32m\"<ipython-input-14-ff73c16bef20>\"\u001b[0;36m, line \u001b[0;32m1\u001b[0m\n\u001b[0;31m    expresion = \"El alumno dijo:\"no se programar!\"\"\u001b[0m\n\u001b[0m                                 ^\u001b[0m\n\u001b[0;31mSyntaxError\u001b[0m\u001b[0;31m:\u001b[0m invalid syntax\n"
          ]
        }
      ]
    },
    {
      "cell_type": "code",
      "source": [
        "expresion = 'El alumno dijo:\"Entiendo programación\"'\n",
        "print(expresion)"
      ],
      "metadata": {
        "colab": {
          "base_uri": "https://localhost:8080/"
        },
        "id": "oE1lxjuWfL8N",
        "outputId": "a2e079d7-370e-40e2-c13b-e5dd26e70581"
      },
      "execution_count": null,
      "outputs": [
        {
          "output_type": "stream",
          "name": "stdout",
          "text": [
            "El alumno dijo:\"Entiendo programación\"\n"
          ]
        }
      ]
    },
    {
      "cell_type": "code",
      "source": [
        "print(x,type(x))"
      ],
      "metadata": {
        "colab": {
          "base_uri": "https://localhost:8080/"
        },
        "id": "7bPM2_2YfT1N",
        "outputId": "69192291-567e-487e-b936-e36192a5bc2c"
      },
      "execution_count": null,
      "outputs": [
        {
          "output_type": "stream",
          "name": "stdout",
          "text": [
            "5 <class 'int'>\n"
          ]
        }
      ]
    },
    {
      "cell_type": "code",
      "source": [
        "x2=\"5\"\n",
        "print(x==x2, x,type(x), x2, type(x2))"
      ],
      "metadata": {
        "colab": {
          "base_uri": "https://localhost:8080/"
        },
        "id": "T-qhBFGEfiHE",
        "outputId": "852ec1d3-a4a9-4e75-bfe1-ebe235f6b225"
      },
      "execution_count": null,
      "outputs": [
        {
          "output_type": "stream",
          "name": "stdout",
          "text": [
            "False 5 <class 'int'> 5 <class 'str'>\n"
          ]
        }
      ]
    },
    {
      "cell_type": "code",
      "source": [
        "print(x==int(x2))"
      ],
      "metadata": {
        "colab": {
          "base_uri": "https://localhost:8080/"
        },
        "id": "zPdJhF4Bfnz0",
        "outputId": "fd3bba92-fa83-4120-a508-b35209f3b924"
      },
      "execution_count": null,
      "outputs": [
        {
          "output_type": "stream",
          "name": "stdout",
          "text": [
            "True\n"
          ]
        }
      ]
    },
    {
      "cell_type": "markdown",
      "source": [
        "## Operación con Strings"
      ],
      "metadata": {
        "id": "CB7hyVm-gGnA"
      }
    },
    {
      "cell_type": "code",
      "source": [
        "exp2 = 'El alumno dijo:\"Entiendo programación, para concatenar uso el operador suma ' + \"y así puedo agregar comillas simples ('') también \" + '\"'"
      ],
      "metadata": {
        "id": "JjO9imiEf86h"
      },
      "execution_count": null,
      "outputs": []
    },
    {
      "cell_type": "code",
      "source": [
        "print(exp2)"
      ],
      "metadata": {
        "colab": {
          "base_uri": "https://localhost:8080/"
        },
        "id": "e9_ffZW-gav0",
        "outputId": "9bfbc635-f5b5-465a-b174-06318e546397"
      },
      "execution_count": null,
      "outputs": [
        {
          "output_type": "stream",
          "name": "stdout",
          "text": [
            "El alumno dijo:\"Entiendo programación, para concatenar uso el operador suma y así puedo agregar comillas simples ('') también \"\n"
          ]
        }
      ]
    },
    {
      "cell_type": "code",
      "source": [
        "nombre=\"Pedro\"\n",
        "apellido=\"Morales\"\n",
        "print(nombre + apellido)\n",
        "print(nombre +\" \"+ apellido)\n",
        "print(nombre +' '+ apellido)\n",
        "print(nombre +'\\t'+ apellido)#Agrego tabulador\n",
        "print(nombre +'\\n'+ apellido)#Agrego Salto de línea\n",
        "\n"
      ],
      "metadata": {
        "colab": {
          "base_uri": "https://localhost:8080/"
        },
        "id": "WbSJiSxXgdIX",
        "outputId": "daba3c80-3419-4cff-a6c4-c9d9e856bee9"
      },
      "execution_count": null,
      "outputs": [
        {
          "output_type": "stream",
          "name": "stdout",
          "text": [
            "PedroMorales\n",
            "Pedro Morales\n",
            "Pedro Morales\n",
            "Pedro\tMorales\n",
            "Pedro\n",
            "Morales\n"
          ]
        }
      ]
    },
    {
      "cell_type": "code",
      "source": [
        "n=\"dante\""
      ],
      "metadata": {
        "id": "gMwkP7dWhMtA"
      },
      "execution_count": null,
      "outputs": []
    },
    {
      "cell_type": "code",
      "source": [
        "n.capitalize()"
      ],
      "metadata": {
        "colab": {
          "base_uri": "https://localhost:8080/",
          "height": 36
        },
        "id": "Qry1CeZjh6DN",
        "outputId": "2ed3ee6c-f066-4a4f-814c-546b1144be0f"
      },
      "execution_count": null,
      "outputs": [
        {
          "output_type": "execute_result",
          "data": {
            "text/plain": [
              "'Dante'"
            ],
            "application/vnd.google.colaboratory.intrinsic+json": {
              "type": "string"
            }
          },
          "metadata": {},
          "execution_count": 23
        }
      ]
    },
    {
      "cell_type": "code",
      "source": [
        "n.upper()"
      ],
      "metadata": {
        "colab": {
          "base_uri": "https://localhost:8080/",
          "height": 36
        },
        "id": "OtFr4H_zh7VE",
        "outputId": "137b4400-5d08-443e-a822-5d42409db70c"
      },
      "execution_count": null,
      "outputs": [
        {
          "output_type": "execute_result",
          "data": {
            "text/plain": [
              "'DANTE'"
            ],
            "application/vnd.google.colaboratory.intrinsic+json": {
              "type": "string"
            }
          },
          "metadata": {},
          "execution_count": 24
        }
      ]
    },
    {
      "cell_type": "code",
      "source": [],
      "metadata": {
        "id": "RrAGQbe4h9xt"
      },
      "execution_count": null,
      "outputs": []
    },
    {
      "cell_type": "code",
      "source": [
        "print(n)"
      ],
      "metadata": {
        "colab": {
          "base_uri": "https://localhost:8080/"
        },
        "id": "lq9eaQqih_in",
        "outputId": "fab002c3-5dc4-4182-efc6-31f89df4c1a8"
      },
      "execution_count": null,
      "outputs": [
        {
          "output_type": "stream",
          "name": "stdout",
          "text": [
            "dante\n"
          ]
        }
      ]
    },
    {
      "cell_type": "code",
      "source": [
        "# de que forma yo puedo reasignar el valor?\n",
        "\n",
        "n = n.capitalize()\n",
        "print(n)"
      ],
      "metadata": {
        "colab": {
          "base_uri": "https://localhost:8080/"
        },
        "id": "gxa0U1WSiB_t",
        "outputId": "316d3f65-f103-4f79-dd82-6b3088100f58"
      },
      "execution_count": null,
      "outputs": [
        {
          "output_type": "stream",
          "name": "stdout",
          "text": [
            "Dante\n"
          ]
        }
      ]
    },
    {
      "cell_type": "code",
      "source": [
        "n = n.lower()\n",
        "print(n)"
      ],
      "metadata": {
        "colab": {
          "base_uri": "https://localhost:8080/"
        },
        "id": "sV6h4GLfiRlp",
        "outputId": "b642d749-f554-4297-dcc8-38d7ff273fbb"
      },
      "execution_count": null,
      "outputs": [
        {
          "output_type": "stream",
          "name": "stdout",
          "text": [
            "dante\n"
          ]
        }
      ]
    },
    {
      "cell_type": "code",
      "source": [
        "n = n.upper()\n",
        "print(n)"
      ],
      "metadata": {
        "colab": {
          "base_uri": "https://localhost:8080/"
        },
        "id": "ToZHGy3xiS4O",
        "outputId": "1a12e287-10f0-4de4-e40d-3fe6040f6ca7"
      },
      "execution_count": null,
      "outputs": [
        {
          "output_type": "stream",
          "name": "stdout",
          "text": [
            "DANTE\n"
          ]
        }
      ]
    },
    {
      "cell_type": "code",
      "source": [
        "print(n)"
      ],
      "metadata": {
        "colab": {
          "base_uri": "https://localhost:8080/"
        },
        "id": "sfTQPci-ibfM",
        "outputId": "a03aebda-630b-4a79-c144-36381e67ddfa"
      },
      "execution_count": null,
      "outputs": [
        {
          "output_type": "stream",
          "name": "stdout",
          "text": [
            "DANTE\n"
          ]
        }
      ]
    },
    {
      "cell_type": "markdown",
      "source": [
        "# Estructuras de datos en Python\n",
        "\n",
        "## Listas (List)\n"
      ],
      "metadata": {
        "id": "Kr9myqmLmDvq"
      }
    },
    {
      "cell_type": "code",
      "source": [
        "l1=[1,2,3,4,5,6]\n",
        "#en esta lista (l1) el valor de la primera posición es 1 y el índice es 0\n",
        "print(l1, type(l1))"
      ],
      "metadata": {
        "colab": {
          "base_uri": "https://localhost:8080/"
        },
        "id": "6VKA8LVfidIn",
        "outputId": "43ccce95-92ee-4a7f-940c-e50c37ce5589"
      },
      "execution_count": null,
      "outputs": [
        {
          "output_type": "stream",
          "name": "stdout",
          "text": [
            "[1, 2, 3, 4, 5, 6] <class 'list'>\n"
          ]
        }
      ]
    },
    {
      "cell_type": "code",
      "source": [
        "l2=[\"a\",2,\"hola\",12.5]\n",
        "print(l2,type(l2))"
      ],
      "metadata": {
        "colab": {
          "base_uri": "https://localhost:8080/"
        },
        "id": "u335anAumON8",
        "outputId": "e775f0b9-92fb-4c7a-a603-eb0fe7bf908e"
      },
      "execution_count": null,
      "outputs": [
        {
          "output_type": "stream",
          "name": "stdout",
          "text": [
            "['a', 2, 'hola', 12.5] <class 'list'>\n"
          ]
        }
      ]
    },
    {
      "cell_type": "code",
      "source": [
        "print(l1[0])"
      ],
      "metadata": {
        "colab": {
          "base_uri": "https://localhost:8080/"
        },
        "id": "8KnCSYAomgPQ",
        "outputId": "723572b2-f626-48d5-a0f7-51b2456174fe"
      },
      "execution_count": null,
      "outputs": [
        {
          "output_type": "stream",
          "name": "stdout",
          "text": [
            "1\n"
          ]
        }
      ]
    },
    {
      "cell_type": "code",
      "source": [
        "print(l1[1])"
      ],
      "metadata": {
        "colab": {
          "base_uri": "https://localhost:8080/"
        },
        "id": "6brIk76Zm7pL",
        "outputId": "e6c9d11d-cc93-4249-f9ca-63ab7d18f35f"
      },
      "execution_count": null,
      "outputs": [
        {
          "output_type": "stream",
          "name": "stdout",
          "text": [
            "2\n"
          ]
        }
      ]
    },
    {
      "cell_type": "code",
      "source": [
        "print(l2[0])"
      ],
      "metadata": {
        "colab": {
          "base_uri": "https://localhost:8080/"
        },
        "id": "uNptQMrCm_iW",
        "outputId": "2e1879b3-6de3-44f1-8df2-e82b392544fc"
      },
      "execution_count": null,
      "outputs": [
        {
          "output_type": "stream",
          "name": "stdout",
          "text": [
            "a\n"
          ]
        }
      ]
    },
    {
      "cell_type": "code",
      "source": [
        "print(l2[3],type(l2[3]))"
      ],
      "metadata": {
        "colab": {
          "base_uri": "https://localhost:8080/"
        },
        "id": "dHoIOUH2nDou",
        "outputId": "c3d17379-8460-4c1e-b2b9-1bf8ca80daf4"
      },
      "execution_count": null,
      "outputs": [
        {
          "output_type": "stream",
          "name": "stdout",
          "text": [
            "12.5 <class 'float'>\n"
          ]
        }
      ]
    },
    {
      "cell_type": "code",
      "source": [
        "print(l2[3],type(l2[2]))"
      ],
      "metadata": {
        "colab": {
          "base_uri": "https://localhost:8080/"
        },
        "id": "LwnOhyvjnGUs",
        "outputId": "11b8f70c-bdf6-4f25-e97b-d81a58dfc287"
      },
      "execution_count": null,
      "outputs": [
        {
          "output_type": "stream",
          "name": "stdout",
          "text": [
            "12.5 <class 'str'>\n"
          ]
        }
      ]
    },
    {
      "cell_type": "code",
      "source": [
        "print(l2[3],type(l2[2])==type(l2[3]), type(l2[0])==type(l2[2]))"
      ],
      "metadata": {
        "colab": {
          "base_uri": "https://localhost:8080/"
        },
        "id": "iwGo9NDDnUEv",
        "outputId": "60bab93a-8f8a-4553-fc0f-fe35ca59ee5c"
      },
      "execution_count": null,
      "outputs": [
        {
          "output_type": "stream",
          "name": "stdout",
          "text": [
            "12.5 False True\n"
          ]
        }
      ]
    },
    {
      "cell_type": "markdown",
      "source": [
        "# Operaciones con strings"
      ],
      "metadata": {
        "id": "C0aF8HqQn19A"
      }
    },
    {
      "cell_type": "code",
      "source": [
        "l1.append(\"a\")\n",
        "print(l1)"
      ],
      "metadata": {
        "colab": {
          "base_uri": "https://localhost:8080/"
        },
        "id": "G_vQPXEwnjIy",
        "outputId": "e0c4271e-8165-4e48-f6d9-b4d1ec7decf3"
      },
      "execution_count": null,
      "outputs": [
        {
          "output_type": "stream",
          "name": "stdout",
          "text": [
            "[1, 2, 3, 4, 5, 6, 'a']\n"
          ]
        }
      ]
    },
    {
      "cell_type": "code",
      "source": [
        "ultimovalor=l1.pop()"
      ],
      "metadata": {
        "id": "iGGp2Eran8OZ"
      },
      "execution_count": null,
      "outputs": []
    },
    {
      "cell_type": "code",
      "source": [
        "print(l1)"
      ],
      "metadata": {
        "colab": {
          "base_uri": "https://localhost:8080/"
        },
        "id": "iNML-CYDoGuD",
        "outputId": "1fb0007c-9162-4ff7-a889-3523c9feae2f"
      },
      "execution_count": null,
      "outputs": [
        {
          "output_type": "stream",
          "name": "stdout",
          "text": [
            "[1, 2, 3, 4, 5, 6]\n"
          ]
        }
      ]
    },
    {
      "cell_type": "code",
      "source": [
        "print(ultimovalor)"
      ],
      "metadata": {
        "colab": {
          "base_uri": "https://localhost:8080/"
        },
        "id": "tJwQUhNFoH_v",
        "outputId": "01fc38cc-3134-4fe8-d403-5a6a0eb2ad7c"
      },
      "execution_count": null,
      "outputs": [
        {
          "output_type": "stream",
          "name": "stdout",
          "text": [
            "a\n"
          ]
        }
      ]
    },
    {
      "cell_type": "markdown",
      "source": [
        "# Slice and dice"
      ],
      "metadata": {
        "id": "sv5ItobroR7o"
      }
    },
    {
      "cell_type": "code",
      "source": [
        "print(l1[0:3])"
      ],
      "metadata": {
        "colab": {
          "base_uri": "https://localhost:8080/"
        },
        "id": "xcgUdZm5oKRZ",
        "outputId": "78041890-314a-41fc-e1dc-3f4474331d89"
      },
      "execution_count": null,
      "outputs": [
        {
          "output_type": "stream",
          "name": "stdout",
          "text": [
            "[1, 2, 3]\n"
          ]
        }
      ]
    },
    {
      "cell_type": "code",
      "source": [
        "print(l1[-1])"
      ],
      "metadata": {
        "colab": {
          "base_uri": "https://localhost:8080/"
        },
        "id": "pPiDAJs3oYPx",
        "outputId": "d1777a1b-3a67-4499-c956-4f3b5c821d56"
      },
      "execution_count": null,
      "outputs": [
        {
          "output_type": "stream",
          "name": "stdout",
          "text": [
            "6\n"
          ]
        }
      ]
    },
    {
      "cell_type": "code",
      "source": [
        "l3=[l1,l2]\n",
        "print(l3)"
      ],
      "metadata": {
        "colab": {
          "base_uri": "https://localhost:8080/"
        },
        "id": "4cUbv4vZof7-",
        "outputId": "70c8b0fd-52bb-4ba3-9925-71dcb7a1b221"
      },
      "execution_count": null,
      "outputs": [
        {
          "output_type": "stream",
          "name": "stdout",
          "text": [
            "[[1, 2, 3, 4, 5, 6], ['a', 2, 'hola', 12.5]]\n"
          ]
        }
      ]
    },
    {
      "cell_type": "code",
      "source": [
        "print(l3[0][0])"
      ],
      "metadata": {
        "colab": {
          "base_uri": "https://localhost:8080/"
        },
        "id": "OEvDHBrXonrt",
        "outputId": "975b5a75-c6c4-4abe-8a64-73779294f09b"
      },
      "execution_count": null,
      "outputs": [
        {
          "output_type": "stream",
          "name": "stdout",
          "text": [
            "1\n"
          ]
        }
      ]
    },
    {
      "cell_type": "code",
      "source": [
        "print(l3[0])"
      ],
      "metadata": {
        "colab": {
          "base_uri": "https://localhost:8080/"
        },
        "id": "wgZycpaboung",
        "outputId": "5a97d65c-61d6-4e63-9038-b95cfa91b09f"
      },
      "execution_count": null,
      "outputs": [
        {
          "output_type": "stream",
          "name": "stdout",
          "text": [
            "[1, 2, 3, 4, 5, 6]\n"
          ]
        }
      ]
    },
    {
      "cell_type": "code",
      "source": [
        "print(l3[0][4])"
      ],
      "metadata": {
        "colab": {
          "base_uri": "https://localhost:8080/"
        },
        "id": "qcrLOMG6oz4o",
        "outputId": "8c01c517-8312-4bd3-cc91-7c6e6185554a"
      },
      "execution_count": null,
      "outputs": [
        {
          "output_type": "stream",
          "name": "stdout",
          "text": [
            "5\n"
          ]
        }
      ]
    },
    {
      "cell_type": "code",
      "source": [
        "print(l3[1][2])"
      ],
      "metadata": {
        "colab": {
          "base_uri": "https://localhost:8080/"
        },
        "id": "4BunW_xBo45G",
        "outputId": "7fc94ee4-59bd-423c-f2b8-a720425b59dd"
      },
      "execution_count": null,
      "outputs": [
        {
          "output_type": "stream",
          "name": "stdout",
          "text": [
            "hola\n"
          ]
        }
      ]
    },
    {
      "cell_type": "code",
      "source": [
        "print(l3[1][0:3])"
      ],
      "metadata": {
        "colab": {
          "base_uri": "https://localhost:8080/"
        },
        "id": "TD-ryOabo84x",
        "outputId": "ba3a46ea-d16e-44dd-bb9b-4da43ef092dd"
      },
      "execution_count": null,
      "outputs": [
        {
          "output_type": "stream",
          "name": "stdout",
          "text": [
            "['a', 2, 'hola']\n"
          ]
        }
      ]
    },
    {
      "cell_type": "code",
      "source": [
        "l4=[1,2,3,4,5,6,7,8,9,10,11]"
      ],
      "metadata": {
        "id": "DTZOiVHSpI_-"
      },
      "execution_count": null,
      "outputs": []
    },
    {
      "cell_type": "code",
      "source": [
        "print(l4[0:8:2]) # el tercer valor indica el salto entre los valores de la lista en un rango en este caso el rango es 0:8 y el salto es de 2"
      ],
      "metadata": {
        "colab": {
          "base_uri": "https://localhost:8080/"
        },
        "id": "qJShubsPpQzM",
        "outputId": "cf51f851-b6f8-4fe0-bd22-aa6788459271"
      },
      "execution_count": null,
      "outputs": [
        {
          "output_type": "stream",
          "name": "stdout",
          "text": [
            "[1, 3, 5, 7]\n"
          ]
        }
      ]
    },
    {
      "cell_type": "markdown",
      "source": [
        "# importación de paquetes o librerias"
      ],
      "metadata": {
        "id": "iPwe9D1splob"
      }
    },
    {
      "cell_type": "code",
      "source": [
        "import math # importamos todos los métodos de la libreria math"
      ],
      "metadata": {
        "id": "UhvdYHQQpXOf"
      },
      "execution_count": null,
      "outputs": []
    },
    {
      "cell_type": "code",
      "source": [
        "a = 5\n",
        "b = 12\n",
        "c= math.sqrt(a**2+b**2)\n",
        "print(c)"
      ],
      "metadata": {
        "colab": {
          "base_uri": "https://localhost:8080/"
        },
        "id": "_zZTI_AqprdR",
        "outputId": "e35a4f13-ee33-4897-f35a-d10a86c782fa"
      },
      "execution_count": null,
      "outputs": [
        {
          "output_type": "stream",
          "name": "stdout",
          "text": [
            "13.0\n"
          ]
        }
      ]
    },
    {
      "cell_type": "markdown",
      "source": [
        "si solo queremos utilizar un método de la libreria utilizamos la palabra `from`"
      ],
      "metadata": {
        "id": "5M62auQ4p_cs"
      }
    },
    {
      "cell_type": "code",
      "source": [
        "from math import sqrt # solo importamos raiz cuadrada"
      ],
      "metadata": {
        "id": "4XYiex58p1-a"
      },
      "execution_count": null,
      "outputs": []
    },
    {
      "cell_type": "code",
      "source": [
        "c = sqrt(a**2+b**2)\n",
        "print(c, type(c))"
      ],
      "metadata": {
        "colab": {
          "base_uri": "https://localhost:8080/"
        },
        "id": "0TSTtS8gqKhp",
        "outputId": "414b7783-4390-48ae-de92-4f4042804da1"
      },
      "execution_count": null,
      "outputs": [
        {
          "output_type": "stream",
          "name": "stdout",
          "text": [
            "13.0 <class 'float'>\n"
          ]
        }
      ]
    },
    {
      "cell_type": "markdown",
      "source": [
        "podemos importar más de un método utilizando comas\n",
        "por ejemplo:"
      ],
      "metadata": {
        "id": "APhAyVXsqoF3"
      }
    },
    {
      "cell_type": "code",
      "source": [
        "from math import sqrt, cos"
      ],
      "metadata": {
        "id": "Q9zpqkggqSak"
      },
      "execution_count": null,
      "outputs": []
    },
    {
      "cell_type": "code",
      "source": [
        "print(sqrt(5))\n",
        "print(cos(5))"
      ],
      "metadata": {
        "colab": {
          "base_uri": "https://localhost:8080/"
        },
        "id": "vHLRw-7kqvfU",
        "outputId": "b76c4b58-f9e4-429c-c263-de6353243ee8"
      },
      "execution_count": null,
      "outputs": [
        {
          "output_type": "stream",
          "name": "stdout",
          "text": [
            "2.23606797749979\n",
            "0.28366218546322625\n"
          ]
        }
      ]
    },
    {
      "cell_type": "markdown",
      "source": [
        "Funciones"
      ],
      "metadata": {
        "id": "PBueAJ7WrTWq"
      }
    },
    {
      "cell_type": "code",
      "source": [
        "# Vamos a definir una función que calcule la hipotenusa en un triangulo rectangulo\n",
        "\n",
        "def pitagoras(cat1,cat2): # el método o función recibe dos valores a y b\n",
        "  hipotenusa=sqrt(cat1**2+cat2**2) # aca realizamos la operacion\n",
        "  return hipotenusa # retornamos el valor de la operación"
      ],
      "metadata": {
        "id": "NHsSO3zOqxif"
      },
      "execution_count": null,
      "outputs": []
    },
    {
      "cell_type": "code",
      "source": [
        "print(pitagoras(3,4))\n",
        "print(pitagoras(5,12))\n",
        "print(pitagoras(8,20))\n",
        "print(pitagoras(1,2))\n",
        "print(pitagoras(3.2,4.8))\n",
        "\n"
      ],
      "metadata": {
        "colab": {
          "base_uri": "https://localhost:8080/"
        },
        "id": "nKGeyjoArdW4",
        "outputId": "6f671a5e-c390-4f91-969f-0447c5438afd"
      },
      "execution_count": null,
      "outputs": [
        {
          "output_type": "stream",
          "name": "stdout",
          "text": [
            "5.0\n",
            "13.0\n",
            "21.540659228538015\n",
            "2.23606797749979\n",
            "5.768882040742383\n"
          ]
        }
      ]
    },
    {
      "cell_type": "code",
      "source": [
        "print(pitagoras(\"a\",\"b\"))"
      ],
      "metadata": {
        "colab": {
          "base_uri": "https://localhost:8080/",
          "height": 279
        },
        "id": "4N0A4L4tsEka",
        "outputId": "4f91a2f0-6032-47e3-f279-174dd266b6db"
      },
      "execution_count": null,
      "outputs": [
        {
          "output_type": "error",
          "ename": "TypeError",
          "evalue": "ignored",
          "traceback": [
            "\u001b[0;31m---------------------------------------------------------------------------\u001b[0m",
            "\u001b[0;31mTypeError\u001b[0m                                 Traceback (most recent call last)",
            "\u001b[0;32m<ipython-input-60-6caefe363fdb>\u001b[0m in \u001b[0;36m<cell line: 1>\u001b[0;34m()\u001b[0m\n\u001b[0;32m----> 1\u001b[0;31m \u001b[0mprint\u001b[0m\u001b[0;34m(\u001b[0m\u001b[0mpitagoras\u001b[0m\u001b[0;34m(\u001b[0m\u001b[0;34m\"a\"\u001b[0m\u001b[0;34m,\u001b[0m\u001b[0;34m\"b\"\u001b[0m\u001b[0;34m)\u001b[0m\u001b[0;34m)\u001b[0m\u001b[0;34m\u001b[0m\u001b[0;34m\u001b[0m\u001b[0m\n\u001b[0m",
            "\u001b[0;32m<ipython-input-58-106823b2d12a>\u001b[0m in \u001b[0;36mpitagoras\u001b[0;34m(cat1, cat2)\u001b[0m\n\u001b[1;32m      2\u001b[0m \u001b[0;34m\u001b[0m\u001b[0m\n\u001b[1;32m      3\u001b[0m \u001b[0;32mdef\u001b[0m \u001b[0mpitagoras\u001b[0m\u001b[0;34m(\u001b[0m\u001b[0mcat1\u001b[0m\u001b[0;34m,\u001b[0m\u001b[0mcat2\u001b[0m\u001b[0;34m)\u001b[0m\u001b[0;34m:\u001b[0m \u001b[0;31m# el método o función recibe dos valores a y b\u001b[0m\u001b[0;34m\u001b[0m\u001b[0;34m\u001b[0m\u001b[0m\n\u001b[0;32m----> 4\u001b[0;31m   \u001b[0mhipotenusa\u001b[0m\u001b[0;34m=\u001b[0m\u001b[0msqrt\u001b[0m\u001b[0;34m(\u001b[0m\u001b[0mcat1\u001b[0m\u001b[0;34m**\u001b[0m\u001b[0;36m2\u001b[0m\u001b[0;34m+\u001b[0m\u001b[0mcat2\u001b[0m\u001b[0;34m**\u001b[0m\u001b[0;36m2\u001b[0m\u001b[0;34m)\u001b[0m \u001b[0;31m# aca realizamos la operacion\u001b[0m\u001b[0;34m\u001b[0m\u001b[0;34m\u001b[0m\u001b[0m\n\u001b[0m\u001b[1;32m      5\u001b[0m   \u001b[0;32mreturn\u001b[0m \u001b[0mhipotenusa\u001b[0m \u001b[0;31m# retornamos el valor de la operación\u001b[0m\u001b[0;34m\u001b[0m\u001b[0;34m\u001b[0m\u001b[0m\n",
            "\u001b[0;31mTypeError\u001b[0m: unsupported operand type(s) for ** or pow(): 'str' and 'int'"
          ]
        }
      ]
    },
    {
      "cell_type": "markdown",
      "source": [
        "## Diccionarios\n",
        "\n",
        "Un diccionario es similar a una lista. Sin embargo, los índices en un diccionario pueden ser cualquier tipo de dato (`str`, `int`, `float`,...).\n",
        "Un diccionario no tiene orden. Es una combinación _llave_, _valor_."
      ],
      "metadata": {
        "id": "5fJgMel3snTI"
      }
    },
    {
      "cell_type": "code",
      "source": [
        "d = {'abrir': 'open',\n",
        "     'cerrar': 'close',\n",
        "     'hola': 'hello'}"
      ],
      "metadata": {
        "id": "QWg7DEGbsZ_R"
      },
      "execution_count": null,
      "outputs": []
    },
    {
      "cell_type": "code",
      "source": [
        "d['hola']"
      ],
      "metadata": {
        "id": "us130NcxtcBB"
      },
      "execution_count": null,
      "outputs": []
    },
    {
      "cell_type": "code",
      "source": [
        "d['abrir']"
      ],
      "metadata": {
        "id": "Vv1wdSD9tfbf"
      },
      "execution_count": null,
      "outputs": []
    },
    {
      "cell_type": "code",
      "source": [
        "d2 = {1:'hola',\n",
        "      0:'chao'}"
      ],
      "metadata": {
        "id": "_PU-H7MmtkyM"
      },
      "execution_count": null,
      "outputs": []
    },
    {
      "cell_type": "code",
      "source": [
        "d2[1]"
      ],
      "metadata": {
        "id": "wnSjphPft61s"
      },
      "execution_count": null,
      "outputs": []
    },
    {
      "cell_type": "code",
      "source": [
        "d3 = {\"numero\":3.14,\n",
        "      \"lista\": l2,\n",
        "      \"string\":\"hola mundo\"}"
      ],
      "metadata": {
        "id": "HLNtem3Bt8n5"
      },
      "execution_count": null,
      "outputs": []
    },
    {
      "cell_type": "code",
      "source": [
        "d3[\"lista\"][2]"
      ],
      "metadata": {
        "id": "EJdy5g1puWZ_"
      },
      "execution_count": null,
      "outputs": []
    },
    {
      "cell_type": "code",
      "source": [
        "d3[\"lista\"]"
      ],
      "metadata": {
        "id": "pq9Jmw5DuYOD"
      },
      "execution_count": null,
      "outputs": []
    },
    {
      "cell_type": "code",
      "source": [
        "d3[\"string\"]"
      ],
      "metadata": {
        "id": "hp-1UbvxuiFW"
      },
      "execution_count": null,
      "outputs": []
    },
    {
      "cell_type": "code",
      "source": [
        "d3[\"string\"].capitalize()"
      ],
      "metadata": {
        "id": "gKscaLBHujtG"
      },
      "execution_count": null,
      "outputs": []
    },
    {
      "cell_type": "code",
      "source": [
        "hola=1\n",
        "mundo=0\n",
        "x3=\"hola\""
      ],
      "metadata": {
        "id": "UXCrgXbuu03e"
      },
      "execution_count": null,
      "outputs": []
    },
    {
      "cell_type": "code",
      "source": [
        "d3 = {\"numero\":hola,\n",
        "      \"lista\": l2,\n",
        "      \"string\":x3}"
      ],
      "metadata": {
        "id": "9LPhRY5Tuov8"
      },
      "execution_count": null,
      "outputs": []
    },
    {
      "cell_type": "code",
      "source": [
        "d3[\"numero\"]"
      ],
      "metadata": {
        "colab": {
          "base_uri": "https://localhost:8080/",
          "height": 175
        },
        "id": "zDncxDAMu71Z",
        "outputId": "710c8a23-613f-491f-f374-fc496f71741c"
      },
      "execution_count": null,
      "outputs": [
        {
          "output_type": "error",
          "ename": "NameError",
          "evalue": "ignored",
          "traceback": [
            "\u001b[0;31m---------------------------------------------------------------------------\u001b[0m",
            "\u001b[0;31mNameError\u001b[0m                                 Traceback (most recent call last)",
            "\u001b[0;32m<ipython-input-61-d50fd4e7f9df>\u001b[0m in \u001b[0;36m<cell line: 1>\u001b[0;34m()\u001b[0m\n\u001b[0;32m----> 1\u001b[0;31m \u001b[0md3\u001b[0m\u001b[0;34m[\u001b[0m\u001b[0;34m\"numero\"\u001b[0m\u001b[0;34m]\u001b[0m\u001b[0;34m\u001b[0m\u001b[0;34m\u001b[0m\u001b[0m\n\u001b[0m",
            "\u001b[0;31mNameError\u001b[0m: name 'd3' is not defined"
          ]
        }
      ]
    },
    {
      "cell_type": "code",
      "source": [
        "d3[\"string\"]"
      ],
      "metadata": {
        "colab": {
          "base_uri": "https://localhost:8080/",
          "height": 175
        },
        "id": "6LDHLYmmu9hH",
        "outputId": "9161581e-2a41-4edd-c7a7-99e058b47dab"
      },
      "execution_count": null,
      "outputs": [
        {
          "output_type": "error",
          "ename": "NameError",
          "evalue": "ignored",
          "traceback": [
            "\u001b[0;31m---------------------------------------------------------------------------\u001b[0m",
            "\u001b[0;31mNameError\u001b[0m                                 Traceback (most recent call last)",
            "\u001b[0;32m<ipython-input-62-ae82ef6d2c65>\u001b[0m in \u001b[0;36m<cell line: 1>\u001b[0;34m()\u001b[0m\n\u001b[0;32m----> 1\u001b[0;31m \u001b[0md3\u001b[0m\u001b[0;34m[\u001b[0m\u001b[0;34m\"string\"\u001b[0m\u001b[0;34m]\u001b[0m\u001b[0;34m\u001b[0m\u001b[0;34m\u001b[0m\u001b[0m\n\u001b[0m",
            "\u001b[0;31mNameError\u001b[0m: name 'd3' is not defined"
          ]
        }
      ]
    },
    {
      "cell_type": "markdown",
      "source": [
        "# Condicionales y bucles (ciclos)\n",
        "\n",
        "## if / else"
      ],
      "metadata": {
        "id": "J9bA-1QxvQOM"
      }
    },
    {
      "cell_type": "code",
      "source": [
        "if(d3[\"string\"]=='mundo'):\n",
        "  print(\"string tiene asignado: mundo\")\n",
        "else:\n",
        "  print(\"string tiene asignado: \"+d3[\"string\"])"
      ],
      "metadata": {
        "id": "bBs1qyQRvEWc"
      },
      "execution_count": null,
      "outputs": []
    },
    {
      "cell_type": "code",
      "source": [
        "d3[\"string\"]=\"mundo\"\n",
        "print(d3)"
      ],
      "metadata": {
        "colab": {
          "base_uri": "https://localhost:8080/",
          "height": 192
        },
        "id": "U0ifUOYivx_0",
        "outputId": "ee126312-30ff-43f2-d506-4424f57a94fd"
      },
      "execution_count": null,
      "outputs": [
        {
          "output_type": "error",
          "ename": "NameError",
          "evalue": "ignored",
          "traceback": [
            "\u001b[0;31m---------------------------------------------------------------------------\u001b[0m",
            "\u001b[0;31mNameError\u001b[0m                                 Traceback (most recent call last)",
            "\u001b[0;32m<ipython-input-63-e0ca8295be97>\u001b[0m in \u001b[0;36m<cell line: 1>\u001b[0;34m()\u001b[0m\n\u001b[0;32m----> 1\u001b[0;31m \u001b[0md3\u001b[0m\u001b[0;34m[\u001b[0m\u001b[0;34m\"string\"\u001b[0m\u001b[0;34m]\u001b[0m\u001b[0;34m=\u001b[0m\u001b[0;34m\"mundo\"\u001b[0m\u001b[0;34m\u001b[0m\u001b[0;34m\u001b[0m\u001b[0m\n\u001b[0m\u001b[1;32m      2\u001b[0m \u001b[0mprint\u001b[0m\u001b[0;34m(\u001b[0m\u001b[0md3\u001b[0m\u001b[0;34m)\u001b[0m\u001b[0;34m\u001b[0m\u001b[0;34m\u001b[0m\u001b[0m\n",
            "\u001b[0;31mNameError\u001b[0m: name 'd3' is not defined"
          ]
        }
      ]
    },
    {
      "cell_type": "code",
      "source": [
        "if(d3[\"string\"]=='mundo'):\n",
        "  print(\"string tiene asignado: mundo\")\n",
        "else:\n",
        "  print(\"string tiene asignado: \"+d3[\"string\"])"
      ],
      "metadata": {
        "colab": {
          "base_uri": "https://localhost:8080/",
          "height": 227
        },
        "id": "l8Ax3opHwXE7",
        "outputId": "9290b0bd-3b50-43fa-ebe0-40e3f8be7d53"
      },
      "execution_count": null,
      "outputs": [
        {
          "output_type": "error",
          "ename": "NameError",
          "evalue": "ignored",
          "traceback": [
            "\u001b[0;31m---------------------------------------------------------------------------\u001b[0m",
            "\u001b[0;31mNameError\u001b[0m                                 Traceback (most recent call last)",
            "\u001b[0;32m<ipython-input-64-1bc9e654eb0b>\u001b[0m in \u001b[0;36m<cell line: 1>\u001b[0;34m()\u001b[0m\n\u001b[0;32m----> 1\u001b[0;31m \u001b[0;32mif\u001b[0m\u001b[0;34m(\u001b[0m\u001b[0md3\u001b[0m\u001b[0;34m[\u001b[0m\u001b[0;34m\"string\"\u001b[0m\u001b[0;34m]\u001b[0m\u001b[0;34m==\u001b[0m\u001b[0;34m'mundo'\u001b[0m\u001b[0;34m)\u001b[0m\u001b[0;34m:\u001b[0m\u001b[0;34m\u001b[0m\u001b[0;34m\u001b[0m\u001b[0m\n\u001b[0m\u001b[1;32m      2\u001b[0m   \u001b[0mprint\u001b[0m\u001b[0;34m(\u001b[0m\u001b[0;34m\"string tiene asignado: mundo\"\u001b[0m\u001b[0;34m)\u001b[0m\u001b[0;34m\u001b[0m\u001b[0;34m\u001b[0m\u001b[0m\n\u001b[1;32m      3\u001b[0m \u001b[0;32melse\u001b[0m\u001b[0;34m:\u001b[0m\u001b[0;34m\u001b[0m\u001b[0;34m\u001b[0m\u001b[0m\n\u001b[1;32m      4\u001b[0m   \u001b[0mprint\u001b[0m\u001b[0;34m(\u001b[0m\u001b[0;34m\"string tiene asignado: \"\u001b[0m\u001b[0;34m+\u001b[0m\u001b[0md3\u001b[0m\u001b[0;34m[\u001b[0m\u001b[0;34m\"string\"\u001b[0m\u001b[0;34m]\u001b[0m\u001b[0;34m)\u001b[0m\u001b[0;34m\u001b[0m\u001b[0;34m\u001b[0m\u001b[0m\n",
            "\u001b[0;31mNameError\u001b[0m: name 'd3' is not defined"
          ]
        }
      ]
    },
    {
      "cell_type": "code",
      "source": [
        "x = 3\n",
        "y = 8\n",
        "j = 10"
      ],
      "metadata": {
        "id": "aMI4LfpRwnHx"
      },
      "execution_count": null,
      "outputs": []
    },
    {
      "cell_type": "code",
      "source": [
        "if ((x <= 3 and y == 8) and j != 10):\n",
        "  print(\"ok\")\n",
        "else:\n",
        "  print(\"no cumple con condicion\")"
      ],
      "metadata": {
        "colab": {
          "base_uri": "https://localhost:8080/"
        },
        "id": "2TYqE85rwnpb",
        "outputId": "a001bae3-a914-4dfd-8157-77f47f76d6a4"
      },
      "execution_count": null,
      "outputs": [
        {
          "output_type": "stream",
          "name": "stdout",
          "text": [
            "no cumple con condicion\n"
          ]
        }
      ]
    },
    {
      "cell_type": "code",
      "source": [
        "# Ciclo While\n",
        "i=1\n",
        "while(i<10):\n",
        "  print(i)\n",
        "  i+=1"
      ],
      "metadata": {
        "colab": {
          "base_uri": "https://localhost:8080/"
        },
        "id": "Ce2u_ODLwn_9",
        "outputId": "8d4b05b2-bab7-4313-f249-029dab54bc5e"
      },
      "execution_count": null,
      "outputs": [
        {
          "output_type": "stream",
          "name": "stdout",
          "text": [
            "1\n",
            "2\n",
            "3\n",
            "4\n",
            "5\n",
            "6\n",
            "7\n",
            "8\n",
            "9\n"
          ]
        }
      ]
    },
    {
      "cell_type": "code",
      "source": [
        "# Ciclo While\n",
        "i=1\n",
        "while(i<=10):\n",
        "  print(i)\n",
        "  i+=1"
      ],
      "metadata": {
        "colab": {
          "base_uri": "https://localhost:8080/"
        },
        "id": "g5D4E3XgwoD1",
        "outputId": "e04ce1da-18d4-4d55-bee8-002e66c5f57e"
      },
      "execution_count": null,
      "outputs": [
        {
          "output_type": "stream",
          "name": "stdout",
          "text": [
            "1\n",
            "2\n",
            "3\n",
            "4\n",
            "5\n",
            "6\n",
            "7\n",
            "8\n",
            "9\n",
            "10\n"
          ]
        }
      ]
    },
    {
      "cell_type": "code",
      "source": [
        "i=0\n",
        "while(i<=10):\n",
        "  print(i)\n",
        "  i+=1"
      ],
      "metadata": {
        "colab": {
          "base_uri": "https://localhost:8080/"
        },
        "id": "806VeAIYwoHR",
        "outputId": "ed3333d3-be04-4cd9-f10d-d8d5b594ded6"
      },
      "execution_count": null,
      "outputs": [
        {
          "output_type": "stream",
          "name": "stdout",
          "text": [
            "0\n",
            "1\n",
            "2\n",
            "3\n",
            "4\n",
            "5\n",
            "6\n",
            "7\n",
            "8\n",
            "9\n",
            "10\n"
          ]
        }
      ]
    },
    {
      "cell_type": "code",
      "source": [
        "i=1\n",
        "while(i<=10):\n",
        "  print(\"el valor de 'i' es:\" + str(i))\n",
        "  i+=1"
      ],
      "metadata": {
        "colab": {
          "base_uri": "https://localhost:8080/"
        },
        "id": "oFMHUkfPwoJx",
        "outputId": "22055a7a-07dc-46b8-fcf9-e0c8419c7b9d"
      },
      "execution_count": null,
      "outputs": [
        {
          "output_type": "stream",
          "name": "stdout",
          "text": [
            "el valor de 'i' es:1\n",
            "el valor de 'i' es:2\n",
            "el valor de 'i' es:3\n",
            "el valor de 'i' es:4\n",
            "el valor de 'i' es:5\n",
            "el valor de 'i' es:6\n",
            "el valor de 'i' es:7\n",
            "el valor de 'i' es:8\n",
            "el valor de 'i' es:9\n",
            "el valor de 'i' es:10\n"
          ]
        }
      ]
    },
    {
      "cell_type": "code",
      "source": [
        "# 0 , 1 , 2\n",
        "# 3 , 4 , 5\n",
        "# 5 , 6 , 7\n",
        "\n",
        "\n",
        "\n",
        "\n",
        "matriz=[[0,1,2],\n",
        "        [3,4,5],\n",
        "        [5,6,7]]\n",
        "i=0\n",
        "while(i<3):\n",
        "  j=0\n",
        "  while(j<3):\n",
        "    print(\"elemento [\"+str(i)+\",\"+str(j)+\"]:\"+str(matriz[i][j]))\n",
        "    j+=1\n",
        "  i+=1"
      ],
      "metadata": {
        "colab": {
          "base_uri": "https://localhost:8080/"
        },
        "id": "VhpqiQBQzoph",
        "outputId": "c20655f8-d305-4dec-f467-569ccd4c2e48"
      },
      "execution_count": null,
      "outputs": [
        {
          "output_type": "stream",
          "name": "stdout",
          "text": [
            "elemento [0,0]:0\n",
            "elemento [0,1]:1\n",
            "elemento [0,2]:2\n",
            "elemento [1,0]:3\n",
            "elemento [1,1]:4\n",
            "elemento [1,2]:5\n",
            "elemento [2,0]:5\n",
            "elemento [2,1]:6\n",
            "elemento [2,2]:7\n"
          ]
        }
      ]
    },
    {
      "cell_type": "code",
      "source": [
        "#range rango de valores entre [a:b]\n",
        "for i in range(1,11):\n",
        "  print(i)\n"
      ],
      "metadata": {
        "colab": {
          "base_uri": "https://localhost:8080/"
        },
        "id": "aBZs7mwV0J6V",
        "outputId": "6371cb78-8ca3-41a5-e5da-ea8e25077d53"
      },
      "execution_count": null,
      "outputs": [
        {
          "output_type": "stream",
          "name": "stdout",
          "text": [
            "1\n",
            "2\n",
            "3\n",
            "4\n",
            "5\n",
            "6\n",
            "7\n",
            "8\n",
            "9\n",
            "10\n"
          ]
        }
      ]
    },
    {
      "cell_type": "code",
      "source": [
        "lista=[\"a\",\"b\",\"c\",\"d\",\"e\"]\n",
        "# lista tiene 5 elementos, por lo que len(lista) = 5\n",
        "# pero los indices de la lista van de 0 hasta el 4\n",
        "for i in range(0,len(lista)):\n",
        "  print(i,lista[i])"
      ],
      "metadata": {
        "colab": {
          "base_uri": "https://localhost:8080/"
        },
        "id": "Blg9WroO1nhL",
        "outputId": "781d7490-42b5-4712-ed95-523f0c9cc4c6"
      },
      "execution_count": null,
      "outputs": [
        {
          "output_type": "stream",
          "name": "stdout",
          "text": [
            "0 a\n",
            "1 b\n",
            "2 c\n",
            "3 d\n",
            "4 e\n"
          ]
        }
      ]
    },
    {
      "cell_type": "code",
      "source": [
        "# vamos a hacer una función que busque el valor máximo en una lista\n",
        "lista=[2,8,1,100,4,20]\n",
        "\n",
        "def maximo(l):\n",
        "  valormaximo=l[0]\n",
        "  i=1\n",
        "  while(i<len(l)):\n",
        "    if(valormaximo < l[i]):\n",
        "      valormaximo=l[i]\n",
        "    i+=1\n",
        "  return valormaximo\n"
      ],
      "metadata": {
        "id": "duTiu7382Fzl"
      },
      "execution_count": null,
      "outputs": []
    },
    {
      "cell_type": "code",
      "source": [
        "maximo(lista)"
      ],
      "metadata": {
        "colab": {
          "base_uri": "https://localhost:8080/"
        },
        "id": "Zdv97ao84Pox",
        "outputId": "c0b3e811-5dc0-48a5-f08d-41ab7b11b423"
      },
      "execution_count": null,
      "outputs": [
        {
          "output_type": "execute_result",
          "data": {
            "text/plain": [
              "100"
            ]
          },
          "metadata": {},
          "execution_count": 75
        }
      ]
    },
    {
      "cell_type": "code",
      "source": [
        "lista2=[10,2,100,-10,-10000,1000000,1]"
      ],
      "metadata": {
        "id": "1FAAewcq4Wp1"
      },
      "execution_count": null,
      "outputs": []
    },
    {
      "cell_type": "code",
      "source": [
        "maximo(lista2)"
      ],
      "metadata": {
        "colab": {
          "base_uri": "https://localhost:8080/"
        },
        "id": "ePAEbF9_4ejz",
        "outputId": "9968a201-424c-44bb-870a-d0054f2bf59c"
      },
      "execution_count": null,
      "outputs": [
        {
          "output_type": "execute_result",
          "data": {
            "text/plain": [
              "1000000"
            ]
          },
          "metadata": {},
          "execution_count": 77
        }
      ]
    },
    {
      "cell_type": "code",
      "source": [
        "def maximo(l):\n",
        "  valormaximo=l[0]\n",
        "  for i in range (1,len(l)):\n",
        "    if(valormaximo < l[i]):\n",
        "      valormaximo=l[i]\n",
        "  return valormaximo\n"
      ],
      "metadata": {
        "id": "JNiaq1944f2e"
      },
      "execution_count": null,
      "outputs": []
    },
    {
      "cell_type": "code",
      "source": [
        "maximo(lista)"
      ],
      "metadata": {
        "colab": {
          "base_uri": "https://localhost:8080/"
        },
        "id": "SBOPQTqY4o6r",
        "outputId": "3f8f60d6-6aa5-487e-cc5b-056dbc9ca15b"
      },
      "execution_count": null,
      "outputs": [
        {
          "output_type": "execute_result",
          "data": {
            "text/plain": [
              "100"
            ]
          },
          "metadata": {},
          "execution_count": 79
        }
      ]
    },
    {
      "cell_type": "code",
      "source": [
        "maximo(lista2)"
      ],
      "metadata": {
        "colab": {
          "base_uri": "https://localhost:8080/"
        },
        "id": "kY-At_H14qdN",
        "outputId": "e21b10fe-7b37-4bd1-fafb-931b75ef6142"
      },
      "execution_count": null,
      "outputs": [
        {
          "output_type": "execute_result",
          "data": {
            "text/plain": [
              "1000000"
            ]
          },
          "metadata": {},
          "execution_count": 80
        }
      ]
    },
    {
      "cell_type": "markdown",
      "source": [
        "# Vamos a hacer un juego\n",
        "\n",
        "## Vamos a crear un cachipun, para jugar contra el computador"
      ],
      "metadata": {
        "id": "XuRkXBVf5ZV6"
      }
    },
    {
      "cell_type": "code",
      "source": [
        "dict_cachipun={\"piedra\":0,\n",
        "               \"papel\": 1,\n",
        "               \"tijera\": 2}"
      ],
      "metadata": {
        "id": "By91YQvP4sCH"
      },
      "execution_count": null,
      "outputs": []
    },
    {
      "cell_type": "code",
      "source": [
        "print(dict_cachipun[\"papel\"])"
      ],
      "metadata": {
        "colab": {
          "base_uri": "https://localhost:8080/"
        },
        "id": "J7DjHQof5q1n",
        "outputId": "7ab61d5b-d6d0-405f-8a82-e0e473380b12"
      },
      "execution_count": null,
      "outputs": [
        {
          "output_type": "stream",
          "name": "stdout",
          "text": [
            "1\n"
          ]
        }
      ]
    },
    {
      "cell_type": "code",
      "source": [
        "lista_cachipun=[\"piedra\",\n",
        "                \"papel\",\n",
        "                \"tijera\"]"
      ],
      "metadata": {
        "id": "SQzqvaQ55uDx"
      },
      "execution_count": null,
      "outputs": []
    },
    {
      "cell_type": "code",
      "source": [
        "print(lista_cachipun[1])"
      ],
      "metadata": {
        "colab": {
          "base_uri": "https://localhost:8080/"
        },
        "id": "H0IM7f3E530B",
        "outputId": "6b3c3d09-c882-40b7-9abb-6b8f6634b190"
      },
      "execution_count": null,
      "outputs": [
        {
          "output_type": "stream",
          "name": "stdout",
          "text": [
            "papel\n"
          ]
        }
      ]
    },
    {
      "cell_type": "code",
      "source": [
        "def cachipun():\n",
        "  from random import randint\n",
        "  computador=randint(0,2)\n",
        "  #supongamos q computador vale 1 (es decir, el numero aleatorio fue 1)\n",
        "  jugador = dict_cachipun[input(\"¿piedra, papel o tijera?\")]\n",
        "  #supongamos que el jugador escribe papel\n",
        "  # entonces el valor de dict_cachipun[\"papel\"] = 1\n",
        "  if computador == jugador:\n",
        "    resultado=\"Empate!\"\n",
        "  else:\n",
        "    if (computador+1)%3 == jugador:\n",
        "      resultado=\"Me ganaste!\"\n",
        "    else:\n",
        "      resultado=\"Te gané!\"\n",
        "  print(\"Como jugador elegiste: \"+ lista_cachipun[jugador])\n",
        "  print(\"Como computador elegí: \"+ lista_cachipun[computador])\n",
        "  print(\"El Resultado es: \"+ resultado)\n"
      ],
      "metadata": {
        "id": "640xKfod5695"
      },
      "execution_count": null,
      "outputs": []
    },
    {
      "cell_type": "code",
      "source": [
        "cachipun()"
      ],
      "metadata": {
        "colab": {
          "base_uri": "https://localhost:8080/",
          "height": 314
        },
        "id": "got_0cv07be-",
        "outputId": "61fcd94a-5cca-4458-a043-bdffec6af55c"
      },
      "execution_count": null,
      "outputs": [
        {
          "name": "stdout",
          "output_type": "stream",
          "text": [
            "¿piedra, papel o tijera?kjlkjjk\n"
          ]
        },
        {
          "output_type": "error",
          "ename": "KeyError",
          "evalue": "ignored",
          "traceback": [
            "\u001b[0;31m---------------------------------------------------------------------------\u001b[0m",
            "\u001b[0;31mKeyError\u001b[0m                                  Traceback (most recent call last)",
            "\u001b[0;32m<ipython-input-86-afe994ddb510>\u001b[0m in \u001b[0;36m<cell line: 1>\u001b[0;34m()\u001b[0m\n\u001b[0;32m----> 1\u001b[0;31m \u001b[0mcachipun\u001b[0m\u001b[0;34m(\u001b[0m\u001b[0;34m)\u001b[0m\u001b[0;34m\u001b[0m\u001b[0;34m\u001b[0m\u001b[0m\n\u001b[0m",
            "\u001b[0;32m<ipython-input-85-218f602a84b4>\u001b[0m in \u001b[0;36mcachipun\u001b[0;34m()\u001b[0m\n\u001b[1;32m      3\u001b[0m   \u001b[0mcomputador\u001b[0m\u001b[0;34m=\u001b[0m\u001b[0mrandint\u001b[0m\u001b[0;34m(\u001b[0m\u001b[0;36m0\u001b[0m\u001b[0;34m,\u001b[0m\u001b[0;36m2\u001b[0m\u001b[0;34m)\u001b[0m\u001b[0;34m\u001b[0m\u001b[0;34m\u001b[0m\u001b[0m\n\u001b[1;32m      4\u001b[0m   \u001b[0;31m#supongamos q computador vale 1 (es decir, el numero aleatorio fue 1)\u001b[0m\u001b[0;34m\u001b[0m\u001b[0;34m\u001b[0m\u001b[0m\n\u001b[0;32m----> 5\u001b[0;31m   \u001b[0mjugador\u001b[0m \u001b[0;34m=\u001b[0m \u001b[0mdict_cachipun\u001b[0m\u001b[0;34m[\u001b[0m\u001b[0minput\u001b[0m\u001b[0;34m(\u001b[0m\u001b[0;34m\"¿piedra, papel o tijera?\"\u001b[0m\u001b[0;34m)\u001b[0m\u001b[0;34m]\u001b[0m\u001b[0;34m\u001b[0m\u001b[0;34m\u001b[0m\u001b[0m\n\u001b[0m\u001b[1;32m      6\u001b[0m   \u001b[0;31m#supongamos que el jugador escribe papel\u001b[0m\u001b[0;34m\u001b[0m\u001b[0;34m\u001b[0m\u001b[0m\n\u001b[1;32m      7\u001b[0m   \u001b[0;31m# entonces el valor de dict_cachipun[\"papel\"] = 1\u001b[0m\u001b[0;34m\u001b[0m\u001b[0;34m\u001b[0m\u001b[0m\n",
            "\u001b[0;31mKeyError\u001b[0m: 'kjlkjjk'"
          ]
        }
      ]
    },
    {
      "cell_type": "code",
      "source": [
        "jugar={'si':True, 'no': False }\n",
        "\n",
        "seguir=True\n",
        "while(seguir):\n",
        "  cachipun()\n",
        "  seguir=jugar[input(\"seguimos (si/no)? :\")]\n"
      ],
      "metadata": {
        "colab": {
          "base_uri": "https://localhost:8080/"
        },
        "id": "P-Kn_Ilf7d50",
        "outputId": "871453d2-4add-48ad-ee46-0f360c173e53"
      },
      "execution_count": null,
      "outputs": [
        {
          "name": "stdout",
          "output_type": "stream",
          "text": [
            "¿piedra, papel o tijera?tijera\n",
            "Como jugador elegiste: tijera\n",
            "Como computador elegí: papel\n",
            "El Resultado es: Me ganaste!\n",
            "seguimos (si/no)? :no\n"
          ]
        }
      ]
    },
    {
      "cell_type": "markdown",
      "source": [
        "# Captura de errores:\n",
        "\n",
        "Utilizamos `try` y `except`"
      ],
      "metadata": {
        "id": "KjCoq9yC9UuC"
      }
    },
    {
      "cell_type": "code",
      "source": [
        "def cachipunPro():\n",
        "  from random import randint\n",
        "  computador=randint(0,2)\n",
        "  #supongamos q computador vale 1 (es decir, el numero aleatorio fue 1)\n",
        "  jugador=-1\n",
        "  try:\n",
        "    jugador = dict_cachipun[input(\"¿piedra, papel o tijera?\")]\n",
        "  except:\n",
        "    return print(\"No sabes jugar, por favor, escribe piedra, papel o tijera\")\n",
        "  #supongamos que el jugador escribe papel\n",
        "  # entonces el valor de dict_cachipun[\"papel\"] = 1\n",
        "  if computador == jugador:\n",
        "    resultado=\"Empate!\"\n",
        "  else:\n",
        "    if (computador+1)%3 == jugador:\n",
        "      resultado=\"Me ganaste!\"\n",
        "    else:\n",
        "      resultado=\"Te gané!\"\n",
        "  print(\"Como jugador elegiste: \"+ lista_cachipun[jugador])\n",
        "  print(\"Como computador elegí: \"+ lista_cachipun[computador])\n",
        "  print(\"El Resultado es: \"+ resultado)\n"
      ],
      "metadata": {
        "id": "eNukkLvA8SJe"
      },
      "execution_count": null,
      "outputs": []
    },
    {
      "cell_type": "code",
      "source": [
        "cachipunPro()"
      ],
      "metadata": {
        "id": "OVhLSnXm90L5"
      },
      "execution_count": null,
      "outputs": []
    },
    {
      "cell_type": "code",
      "source": [
        "def cachipunForever():\n",
        "  jugar={'si':True, 'no': False }\n",
        "\n",
        "  seguir=True\n",
        "  while(seguir):\n",
        "    cachipunPro()\n",
        "    try:\n",
        "      seguir=jugar[input(\"seguimos (si/no)? :\")]\n",
        "    except:\n",
        "      print(\"Supongo que no quieres seguir jugando!\")\n",
        "      seguir=False"
      ],
      "metadata": {
        "id": "WLDUUojj92jp"
      },
      "execution_count": null,
      "outputs": []
    },
    {
      "cell_type": "code",
      "source": [
        "cachipunForever()"
      ],
      "metadata": {
        "colab": {
          "base_uri": "https://localhost:8080/"
        },
        "id": "l8mQrkHD-Bh6",
        "outputId": "825b8d19-aa3a-47cb-baaa-363ca3967a79"
      },
      "execution_count": null,
      "outputs": [
        {
          "output_type": "stream",
          "name": "stdout",
          "text": [
            "¿piedra, papel o tijera?tijera\n",
            "Como jugador elegiste: tijera\n",
            "Como computador elegí: papel\n",
            "El Resultado es: Me ganaste!\n",
            "seguimos (si/no)? :kljaskldlkasdlk\n",
            "Supongo que no quieres seguir jugando!\n"
          ]
        }
      ]
    },
    {
      "cell_type": "code",
      "source": [],
      "metadata": {
        "id": "qF7DC2Ej-DVP"
      },
      "execution_count": null,
      "outputs": []
    }
  ]
}